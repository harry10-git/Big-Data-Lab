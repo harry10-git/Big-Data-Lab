{
 "cells": [
  {
   "cell_type": "code",
   "execution_count": 1,
   "metadata": {},
   "outputs": [],
   "source": [
    "from pyspark.sql import SparkSession\n",
    "from pyspark.ml.feature import StringIndexer,StandardScaler,VectorAssembler\n",
    "from pyspark.ml.clustering import KMeans\n",
    "from pyspark.ml.evaluation import ClusteringEvaluator\n",
    "from pyspark.ml import Pipeline \n",
    "from pyspark.sql.functions import col"
   ]
  },
  {
   "cell_type": "code",
   "execution_count": 2,
   "metadata": {},
   "outputs": [
    {
     "data": {
      "text/html": [
       "\n",
       "            <div>\n",
       "                <p><b>SparkSession - in-memory</b></p>\n",
       "                \n",
       "        <div>\n",
       "            <p><b>SparkContext</b></p>\n",
       "\n",
       "            <p><a href=\"http://Chowdarymrk9:4040\">Spark UI</a></p>\n",
       "\n",
       "            <dl>\n",
       "              <dt>Version</dt>\n",
       "                <dd><code>v3.5.1</code></dd>\n",
       "              <dt>Master</dt>\n",
       "                <dd><code>local[*]</code></dd>\n",
       "              <dt>AppName</dt>\n",
       "                <dd><code>kmeans</code></dd>\n",
       "            </dl>\n",
       "        </div>\n",
       "        \n",
       "            </div>\n",
       "        "
      ],
      "text/plain": [
       "<pyspark.sql.session.SparkSession at 0x22b3f3bcc90>"
      ]
     },
     "execution_count": 2,
     "metadata": {},
     "output_type": "execute_result"
    }
   ],
   "source": [
    "spark = SparkSession.builder.appName('kmeans').getOrCreate()\n",
    "spark"
   ]
  },
  {
   "cell_type": "code",
   "execution_count": null,
   "metadata": {},
   "outputs": [],
   "source": [
    "df = spark.read.csv('Datasets/kddcup.data_10_percent_corrected',inferSchema=True,header=False)\n",
    "# df.show(5)\n",
    "# df.printSchema()\n",
    "col_names = [\"duration\",\"protocol_type\",\"service\",\"flag\",\"src_bytes\",\"dst_bytes\",\"land\",\"wrong_fragment\",\"urgent\",\n",
    "                \"hot\",\"num_failed_logins\",\"logged_in\",\"num_compromised\",\"root_shell\",\"su_attempted\",\"num_root\",\n",
    "                \"num_file_creations\",\"num_shells\",\"num_access_files\",\"num_outbound_cmds\",\"is_host_login\",\"is_guest_login\",\n",
    "                \"count\",\"srv_count\",\"serror_rate\",\"srv_serror_rate\",\"rerror_rate\",\"srv_rerror_rate\",\"same_srv_rate\",\n",
    "                \"diff_srv_rate\",\"srv_diff_host_rate\",\"dst_host_count\",\"dst_host_srv_count\",\"dst_host_same_srv_rate\",\n",
    "                \"dst_host_diff_srv_rate\",\"dst_host_same_src_port_rate\",\"dst_host_srv_diff_host_rate\",\"dst_host_serror_rate\",\n",
    "                \"dst_host_srv_serror_rate\",\"dst_host_rerror_rate\",\"dst_host_srv_rerror_rate\",\"label\"]\n",
    "df = df.toDF(*col_names)\n",
    "df.show(5)\n",
    "df.printSchema()"
   ]
  },
  {
   "cell_type": "markdown",
   "metadata": {},
   "source": [
    "Finding nulls"
   ]
  },
  {
   "cell_type": "code",
   "execution_count": null,
   "metadata": {},
   "outputs": [],
   "source": [
    "null_cond = col(col_names[0]).isNull()\n",
    "for col_name in col_names[1:]:\n",
    "    null_cond = null_cond | col(col_name).isNull()\n",
    "df_filtered = df.filter(null_cond)\n",
    "df_filtered.show() "
   ]
  },
  {
   "cell_type": "code",
   "execution_count": 5,
   "metadata": {},
   "outputs": [
    {
     "name": "stdout",
     "output_type": "stream",
     "text": [
      "+----------------+------+\n",
      "|           label| count|\n",
      "+----------------+------+\n",
      "|          smurf.|280790|\n",
      "|            pod.|   264|\n",
      "|   guess_passwd.|    53|\n",
      "|        ipsweep.|  1247|\n",
      "|      portsweep.|  1040|\n",
      "|     loadmodule.|     9|\n",
      "|buffer_overflow.|    30|\n",
      "|       teardrop.|   979|\n",
      "|           perl.|     3|\n",
      "|        neptune.|107201|\n",
      "|         normal.| 97278|\n",
      "|           imap.|    12|\n",
      "|           nmap.|   231|\n",
      "|          satan.|  1589|\n",
      "|           land.|    21|\n",
      "|      ftp_write.|     8|\n",
      "|            phf.|     4|\n",
      "|       multihop.|     7|\n",
      "|           back.|  2203|\n",
      "|    warezmaster.|    20|\n",
      "+----------------+------+\n",
      "only showing top 20 rows\n",
      "\n"
     ]
    }
   ],
   "source": [
    "df.groupby('label').count().show()"
   ]
  },
  {
   "cell_type": "code",
   "execution_count": null,
   "metadata": {},
   "outputs": [],
   "source": [
    "cat_features = df.select('protocol_type','service','flag')\n",
    "num_features = df.drop('protocol_type','service','flag','label')\n",
    "cat_features.show(5)\n",
    "num_features.show(5) "
   ]
  },
  {
   "cell_type": "code",
   "execution_count": null,
   "metadata": {},
   "outputs": [],
   "source": [
    "assembler = VectorAssembler(inputCols=num_features.columns,outputCol='features')\n",
    "data = assembler.transform(df)\n",
    "data.show()"
   ]
  },
  {
   "cell_type": "code",
   "execution_count": 8,
   "metadata": {},
   "outputs": [
    {
     "name": "stdout",
     "output_type": "stream",
     "text": [
      "+--------------------+--------------------+\n",
      "|            features|      scaledFeatures|\n",
      "+--------------------+--------------------+\n",
      "|(38,[1,2,8,19,20,...|[-0.0677916519216...|\n",
      "|(38,[1,2,8,19,20,...|[-0.0677916519216...|\n",
      "|(38,[1,2,8,19,20,...|[-0.0677916519216...|\n",
      "|(38,[1,2,8,19,20,...|[-0.0677916519216...|\n",
      "|(38,[1,2,8,19,20,...|[-0.0677916519216...|\n",
      "|(38,[1,2,8,19,20,...|[-0.0677916519216...|\n",
      "|(38,[1,2,8,19,20,...|[-0.0677916519216...|\n",
      "|(38,[1,2,8,19,20,...|[-0.0677916519216...|\n",
      "|(38,[1,2,8,19,20,...|[-0.0677916519216...|\n",
      "|(38,[1,2,6,8,19,2...|[-0.0677916519216...|\n",
      "|(38,[1,2,8,19,20,...|[-0.0677916519216...|\n",
      "|(38,[1,2,8,19,20,...|[-0.0677916519216...|\n",
      "|(38,[1,2,8,19,20,...|[-0.0677916519216...|\n",
      "|(38,[1,2,8,19,20,...|[-0.0677916519216...|\n",
      "|(38,[1,2,8,19,20,...|[-0.0677916519216...|\n",
      "|(38,[1,2,8,19,20,...|[-0.0677916519216...|\n",
      "|(38,[1,2,8,19,20,...|[-0.0677916519216...|\n",
      "|(38,[1,2,8,19,20,...|[-0.0677916519216...|\n",
      "|(38,[1,2,8,19,20,...|[-0.0677916519216...|\n",
      "|(38,[1,2,8,19,20,...|[-0.0677916519216...|\n",
      "+--------------------+--------------------+\n",
      "only showing top 20 rows\n",
      "\n"
     ]
    }
   ],
   "source": [
    "scaler = StandardScaler(inputCol=\"features\",  \n",
    "                        outputCol=\"scaledFeatures\",  \n",
    "                        withStd=True,  \n",
    "                        withMean=True) \n",
    "scaler_model = scaler.fit(data)\n",
    "data = scaler_model.transform(data)\n",
    "data.select('features','scaledFeatures').show() "
   ]
  },
  {
   "cell_type": "code",
   "execution_count": 15,
   "metadata": {},
   "outputs": [
    {
     "name": "stdout",
     "output_type": "stream",
     "text": [
      "Silhouette score for k=2 : 0.527827314157215\n",
      "Silhouette score for k=3 : 0.4999898696021515\n",
      "Silhouette score for k=4 : 0.6207556359758425\n",
      "Silhouette score for k=5 : 0.6283819600383427\n",
      "Silhouette score for k=6 : 0.574873108936549\n",
      "Silhouette score for k=7 : 0.6754764930403446\n",
      "Silhouette score for k=8 : 0.668914411958161\n",
      "Silhouette score for k=9 : 0.7156680822547944\n",
      "Silhouette score for k=10 : 0.7143636775694259\n"
     ]
    }
   ],
   "source": [
    "evaluator = ClusteringEvaluator(predictionCol='prediction',featuresCol='scaledFeatures',metricName='silhouette',distanceMeasure='squaredEuclidean')\n",
    "silhouette_scores = []\n",
    "for k in range(2,11):\n",
    "    kmeans = KMeans(featuresCol='scaledFeatures',k=k)\n",
    "    model = kmeans.fit(data)\n",
    "    predictions = model.transform(data)\n",
    "    score = evaluator.evaluate(predictions)\n",
    "    silhouette_scores.append(score)\n",
    "    print(f\"Silhouette score for k={k} : {score}\")\n"
   ]
  },
  {
   "cell_type": "code",
   "execution_count": 14,
   "metadata": {},
   "outputs": [
    {
     "data": {
      "image/png": "[encoded data removed]",
      "text/plain": [
       "<Figure size 640x480 with 1 Axes>"
      ]
     },
     "metadata": {},
     "output_type": "display_data"
    }
   ],
   "source": [
    "import matplotlib.pyplot as plt \n",
    "  \n",
    "plt.plot(range(2,11),silhouette_scores) \n",
    "plt.xlabel('k') \n",
    "plt.ylabel('silhouette score') \n",
    "plt.title('Silhouette Score') \n",
    "plt.show()"
   ]
  },
  {
   "cell_type": "code",
   "execution_count": 19,
   "metadata": {},
   "outputs": [
    {
     "name": "stdout",
     "output_type": "stream",
     "text": [
      "+----------+------+\n",
      "|prediction| count|\n",
      "+----------+------+\n",
      "|         1|281393|\n",
      "|         3|107494|\n",
      "|         5|  9198|\n",
      "|         4|   686|\n",
      "|         0| 95248|\n",
      "|         2|     2|\n",
      "+----------+------+\n",
      "\n"
     ]
    }
   ],
   "source": [
    "kmeans = KMeans(featuresCol='scaledFeatures',k=6)\n",
    "model = kmeans.fit(data)\n",
    "preds = model.transform(data)\n",
    "#preds.show()\n",
    "preds.groupBy('prediction').count().show()"
   ]
  }
 ],
 "metadata": {
  "kernelspec": {
   "display_name": "Python 3 (ipykernel)",
   "language": "python",
   "name": "python3"
  },
  "language_info": {
   "codemirror_mode": {
    "name": "ipython",
    "version": 3
   },
   "file_extension": ".py",
   "mimetype": "text/x-python",
   "name": "python",
   "nbconvert_exporter": "python",
   "pygments_lexer": "ipython3",
   "version": "3.12.0"
  }
 },
 "nbformat": 4,
 "nbformat_minor": 4
}
