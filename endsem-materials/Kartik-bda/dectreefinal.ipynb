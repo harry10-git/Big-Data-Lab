{
 "cells": [
  {
   "cell_type": "code",
   "execution_count": 2,
   "metadata": {
    "colab": {
     "base_uri": "https://localhost:8080/"
    },
    "id": "GB0aPYi5UM-3",
    "outputId": "f6281233-aa07-4b71-ba7e-15d71fc82de0"
   },
   "outputs": [
    {
     "name": "stdout",
     "output_type": "stream",
     "text": [
      "Collecting pyspark\n",
      "  Downloading pyspark-3.5.1.tar.gz (317.0 MB)\n",
      "\u001b[2K     \u001b[90m━━━━━━━━━━━━━━━━━━━━━━━━━━━━━━━━━━━━━━━━\u001b[0m \u001b[32m317.0/317.0 MB\u001b[0m \u001b[31m3.6 MB/s\u001b[0m eta \u001b[36m0:00:00\u001b[0m\n",
      "\u001b[?25h  Preparing metadata (setup.py) ... \u001b[?25l\u001b[?25hdone\n",
      "Requirement already satisfied: py4j==0.10.9.7 in /usr/local/lib/python3.10/dist-packages (from pyspark) (0.10.9.7)\n",
      "Building wheels for collected packages: pyspark\n",
      "  Building wheel for pyspark (setup.py) ... \u001b[?25l\u001b[?25hdone\n",
      "  Created wheel for pyspark: filename=pyspark-3.5.1-py2.py3-none-any.whl size=317488491 sha256=9d86f9d857d706e3fdfb8c8f0fc1eb7c405bb5abd3b20dc0e615f2bbf0042739\n",
      "  Stored in directory: /root/.cache/pip/wheels/80/1d/60/2c256ed38dddce2fdd93be545214a63e02fbd8d74fb0b7f3a6\n",
      "Successfully built pyspark\n",
      "Installing collected packages: pyspark\n",
      "Successfully installed pyspark-3.5.1\n"
     ]
    }
   ],
   "source": [
    "!pip install pyspark"
   ]
  },
  {
   "cell_type": "code",
   "execution_count": 3,
   "metadata": {
    "id": "lK9GiqHQT9LU"
   },
   "outputs": [],
   "source": [
    "from pyspark.sql import SparkSession\n",
    "from pyspark.sql.functions import col\n",
    "from pyspark.ml.feature import Imputer,VectorAssembler\n",
    "from pyspark.ml.classification import DecisionTreeClassifier\n",
    "from pyspark.ml.evaluation import MulticlassClassificationEvaluator"
   ]
  },
  {
   "cell_type": "markdown",
   "metadata": {
    "id": "FE3Dgl1FT9LW"
   },
   "source": [
    "Read dataset"
   ]
  },
  {
   "cell_type": "code",
   "execution_count": null,
   "metadata": {
    "colab": {
     "base_uri": "https://localhost:8080/"
    },
    "id": "QBTC_hzXT9LX",
    "outputId": "48ad585f-bb57-480e-b962-76f7c548bb02"
   },
   "outputs": [],
   "source": [
    "spark = SparkSession.builder.appName('dt').getOrCreate()\n",
    "spark\n",
    "df = spark.read.csv('/content/covtype.csv',inferSchema=True,header=True)\n",
    "#df.show(5)\n",
    "colnames = [\"Elevation\",\"Aspect\",\"Slope\",\"Horizontal_Distance_To_Hydrology\",\"Vertical_Distance_To_Hydrology\",\\\n",
    "           \"Horizontal_Distance_To_Roadways\",\"Hillshade_9am\",\"Hillshade_noon\",\"Hillshade_3pm\",\\\n",
    "           \"Horizontal_Distance_To_Fire_Points\"] + \\\n",
    "           [f\"Wilderness_Area_{i}\" for i in range(4)] + [f\"Soil_Type_{i}\" for i in range(40)] + [\"Cover_Type\"]\n",
    "#df = df.toDF(*colnames)\n",
    "df.show(5)\n",
    "df.printSchema()"
   ]
  },
  {
   "cell_type": "markdown",
   "metadata": {
    "id": "5jvKyjSLT9LZ"
   },
   "source": [
    "Display stats"
   ]
  },
  {
   "cell_type": "code",
   "execution_count": null,
   "metadata": {
    "colab": {
     "base_uri": "https://localhost:8080/"
    },
    "id": "3SgoIrJQT9LZ",
    "outputId": "7abf02b6-19ef-4908-de39-23db4a31abdd"
   },
   "outputs": [],
   "source": [
    "df.describe().show()"
   ]
  },
  {
   "cell_type": "markdown",
   "metadata": {
    "id": "Ockmcjz7T9LZ"
   },
   "source": [
    "Null Values and Imputation"
   ]
  },
  {
   "cell_type": "code",
   "execution_count": null,
   "metadata": {
    "colab": {
     "base_uri": "https://localhost:8080/"
    },
    "id": "60DvGGPhT9Lb",
    "outputId": "24663dee-5106-4c7d-d816-5743ea6f8e4a"
   },
   "outputs": [],
   "source": [
    "#colnames\n",
    "#null_cond = col(colnames[0]).isNull()\n",
    "#for col_name in colnames[1:]:\n",
    "#    null_cond = null_cond | col(col_name).isNull()\n",
    "#filtered_df = df.filter(null_cond)\n",
    "#filtered_df.show()\n",
    "filtered_df=df.na.drop()\n",
    "filtered_df.show()\n",
    "num_features = [\n",
    "    'Elevation', 'Aspect', 'Slope', 'Horizontal_Distance_To_Hydrology', 'Vertical_Distance_To_Hydrology',\n",
    "    'Horizontal_Distance_To_Roadways', 'Hillshade_9am', 'Hillshade_Noon', 'Hillshade_3pm',\n",
    "    'Horizontal_Distance_To_Fire_Points'\n",
    "]\n",
    "cat_features = [\n",
    "    'Wilderness_Area1','Wilderness_Area2','Wilderness_Area3','Wilderness_Area4', 'Soil_Type1', 'Soil_Type2', 'Soil_Type3', 'Soil_Type4', 'Soil_Type5', 'Soil_Type6',\n",
    "    'Soil_Type7', 'Soil_Type8', 'Soil_Type9', 'Soil_Type10', 'Soil_Type11', 'Soil_Type12', 'Soil_Type13',\n",
    "    'Soil_Type14', 'Soil_Type15', 'Soil_Type16', 'Soil_Type17', 'Soil_Type18', 'Soil_Type19', 'Soil_Type20',\n",
    "    'Soil_Type21', 'Soil_Type22', 'Soil_Type23', 'Soil_Type24', 'Soil_Type25', 'Soil_Type26', 'Soil_Type27',\n",
    "    'Soil_Type28', 'Soil_Type29', 'Soil_Type30', 'Soil_Type31', 'Soil_Type32', 'Soil_Type33', 'Soil_Type34',\n",
    "    'Soil_Type35', 'Soil_Type36', 'Soil_Type37', 'Soil_Type38', 'Soil_Type39', 'Soil_Type40' , 'Cover_Type'\n",
    "]\n",
    "\n",
    "num_imputer = Imputer(inputCols=num_features,outputCols=[f'{col_name}_imputed' for col_name in num_features])\n",
    "num_imputed = num_imputer.fit(df)\n",
    "df_num_imp = num_imputed.transform(df)\n",
    "cat_imputer = Imputer(inputCols=cat_features,outputCols=[f\"{col_name}_imputed\" for col_name in cat_features])\n",
    "cat_imputed = cat_imputer.fit(df_num_imp)\n",
    "df_imp = cat_imputed.transform(df_num_imp)\n",
    "print(f\"imputed categorical and numerical features\")\n",
    "df_imp.show(5)\n"
   ]
  },
  {
   "cell_type": "markdown",
   "metadata": {
    "id": "ph2xpgslT9Lb"
   },
   "source": [
    "Imputation"
   ]
  },
  {
   "cell_type": "code",
   "execution_count": null,
   "metadata": {
    "colab": {
     "base_uri": "https://localhost:8080/"
    },
    "id": "Yu83Gby1T9Lb",
    "outputId": "abd3419e-6d8a-4e1c-892b-ebd0db6183ae"
   },
   "outputs": [],
   "source": [
    "train,test = df.randomSplit([0.9,0.1])\n",
    "#assembler = VectorAssembler(inputCols=df.col)\n",
    "col_names = df.columns\n",
    "col_names = col_names[:-1]\n",
    "print(col_names)\n",
    "assembler = VectorAssembler(inputCols=col_names,outputCol='features')\n",
    "train = assembler.transform(df)\n",
    "test = assembler.transform(df)\n",
    "train.show(3)\n",
    "test.show(3)\n",
    "\n"
   ]
  },
  {
   "cell_type": "code",
   "execution_count": null,
   "metadata": {
    "colab": {
     "base_uri": "https://localhost:8080/"
    },
    "id": "B2sSF_gFT9Lc",
    "outputId": "2a0ef0bd-da4b-4175-f84e-d1bc4e3fcec2"
   },
   "outputs": [],
   "source": [
    "dt_model = DecisionTreeClassifier(labelCol='Cover_Type',featuresCol='features')\n",
    "dt = dt_model.fit(train)\n",
    "print(dt.toDebugString)"
   ]
  },
  {
   "cell_type": "code",
   "execution_count": null,
   "metadata": {
    "colab": {
     "base_uri": "https://localhost:8080/"
    },
    "id": "lURb3P1uT9Lc",
    "outputId": "3b51c321-0909-4819-b6ce-13ee5fd0db80"
   },
   "outputs": [],
   "source": [
    "preds = dt.transform(test)\n",
    "preds.show(5)"
   ]
  },
  {
   "cell_type": "code",
   "execution_count": 17,
   "metadata": {
    "colab": {
     "base_uri": "https://localhost:8080/"
    },
    "id": "qY_QPrXFT9Ld",
    "outputId": "80f3d302-627f-4f44-ae2c-a2a20084cf71"
   },
   "outputs": [
    {
     "name": "stdout",
     "output_type": "stream",
     "text": [
      "Accuracy: 0.7845490779759758\n",
      "Precision: 0.7859717675565264\n",
      "Recall: 0.7845490779759757\n"
     ]
    }
   ],
   "source": [
    "evaluator_acc = MulticlassClassificationEvaluator(predictionCol='prediction',labelCol='Cover_Type',metricName='accuracy')\n",
    "accuracy = evaluator_acc.evaluate(preds)\n",
    "print(f\"Accuracy: {accuracy}\")\n",
    "evaluator_prec = MulticlassClassificationEvaluator(predictionCol='prediction',labelCol='Cover_Type',metricName='weightedPrecision')\n",
    "precision = evaluator_prec.evaluate(preds)\n",
    "print(f\"Precision: {precision}\")\n",
    "evaluator_recall = MulticlassClassificationEvaluator(labelCol=\"Cover_Type\", predictionCol=\"prediction\", metricName=\"weightedRecall\")\n",
    "recall = evaluator_recall.evaluate(preds)\n",
    "print(f\"Recall: {recall}\")"
   ]
  }
 ],
 "metadata": {
  "colab": {
   "provenance": []
  },
  "kernelspec": {
   "display_name": "Python 3 (ipykernel)",
   "language": "python",
   "name": "python3"
  },
  "language_info": {
   "codemirror_mode": {
    "name": "ipython",
    "version": 3
   },
   "file_extension": ".py",
   "mimetype": "text/x-python",
   "name": "python",
   "nbconvert_exporter": "python",
   "pygments_lexer": "ipython3",
   "version": "3.12.0"
  }
 },
 "nbformat": 4,
 "nbformat_minor": 4
}
