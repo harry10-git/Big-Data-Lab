{
 "cells": [
  {
   "cell_type": "markdown",
   "metadata": {
    "id": "E-rVsA5JdJaV"
   },
   "source": [
    "# ***Monte Carlo***"
   ]
  },
  {
   "cell_type": "code",
   "execution_count": 1,
   "metadata": {
    "colab": {
     "base_uri": "https://localhost:8080/"
    },
    "id": "_mxLMSQ1dDUR",
    "outputId": "48727c25-1539-4869-caab-a35ee58b4de0"
   },
   "outputs": [
    {
     "name": "stdout",
     "output_type": "stream",
     "text": [
      "Collecting pyspark\n",
      "  Downloading pyspark-3.5.1.tar.gz (317.0 MB)\n",
      "\u001b[2K     \u001b[90m━━━━━━━━━━━━━━━━━━━━━━━━━━━━━━━━━━━━━━━━\u001b[0m \u001b[32m317.0/317.0 MB\u001b[0m \u001b[31m1.3 MB/s\u001b[0m eta \u001b[36m0:00:00\u001b[0m\n",
      "\u001b[?25h  Preparing metadata (setup.py) ... \u001b[?25l\u001b[?25hdone\n",
      "Requirement already satisfied: py4j==0.10.9.7 in /usr/local/lib/python3.10/dist-packages (from pyspark) (0.10.9.7)\n",
      "Building wheels for collected packages: pyspark\n",
      "  Building wheel for pyspark (setup.py) ... \u001b[?25l\u001b[?25hdone\n",
      "  Created wheel for pyspark: filename=pyspark-3.5.1-py2.py3-none-any.whl size=317488491 sha256=c947b67459267051d00624fce83299e9c0c92162c6b482252e19b419095e241a\n",
      "  Stored in directory: /root/.cache/pip/wheels/80/1d/60/2c256ed38dddce2fdd93be545214a63e02fbd8d74fb0b7f3a6\n",
      "Successfully built pyspark\n",
      "Installing collected packages: pyspark\n",
      "Successfully installed pyspark-3.5.1\n"
     ]
    }
   ],
   "source": [
    "!pip install pyspark"
   ]
  },
  {
   "cell_type": "markdown",
   "metadata": {
    "id": "w_BT9-wWipN2"
   },
   "source": [
    "Monte Carlo simulation is a computational technique used to understand the impact of risk and uncertainty in forecasting models. It involves using random sampling and probability distributions to model different possible outcomes of a process.*bold text*"
   ]
  },
  {
   "cell_type": "code",
   "execution_count": 2,
   "metadata": {
    "id": "gY1hV1BJdqzn"
   },
   "outputs": [],
   "source": [
    "import pyspark\n",
    "import os\n",
    "import sys\n",
    "from pyspark import SparkContext\n",
    "os.environ['PYSPARK_PYTHON'] = sys.executable\n",
    "os.environ['PYSPARK_DRIVER_PYTHON'] = sys.executable\n",
    "from pyspark.sql import SparkSession\n",
    "from pyspark.sql.functions import udf\n",
    "from pyspark.sql.types import FloatType\n",
    "import numpy as np\n",
    "import pyspark.sql.functions as fun\n",
    "spark = SparkSession.builder.config(\"spark.driver.memory\", \"16g\").appName('chapter_8').getOrCreate()"
   ]
  },
  {
   "cell_type": "code",
   "execution_count": 8,
   "metadata": {
    "id": "bTLJGyHYdN5j"
   },
   "outputs": [],
   "source": [
    "stocks = spark.read.option(\"header\", \"true\").option(\"inferSchema\", \"true\").csv(\"/content/AAME.csv\")"
   ]
  },
  {
   "cell_type": "code",
   "execution_count": 16,
   "metadata": {
    "colab": {
     "base_uri": "https://localhost:8080/"
    },
    "id": "CqS8EE87hvP8",
    "outputId": "0abd0ca0-ba8a-4b43-b683-5d96c422c67f"
   },
   "outputs": [
    {
     "name": "stdout",
     "output_type": "stream",
     "text": [
      "+----------+----+-----------------+------------------+------------------+------------------+------+\n",
      "|      Date|Open|             High|               Low|             Close|         Adj Close|Volume|\n",
      "+----------+----+-----------------+------------------+------------------+------------------+------+\n",
      "|1980-03-17| 0.0|4.050000190734863|3.8499999046325684|3.8499999046325684|3.2131667137145996| 15000|\n",
      "|1980-03-18| 0.0|              4.0| 3.799999952316284| 3.799999952316284|3.1714370250701904| 10200|\n",
      "+----------+----+-----------------+------------------+------------------+------------------+------+\n",
      "only showing top 2 rows\n",
      "\n"
     ]
    }
   ],
   "source": [
    "stocks.show(2)"
   ]
  },
  {
   "cell_type": "markdown",
   "metadata": {
    "id": "xqamgWCnic2h"
   },
   "source": [
    "*we generate mean and standard deviation from every numerical column in the dataset.*"
   ]
  },
  {
   "cell_type": "code",
   "execution_count": 11,
   "metadata": {
    "colab": {
     "base_uri": "https://localhost:8080/"
    },
    "id": "K8TKwr3_fWos",
    "outputId": "2d4ae73a-54d0-46ac-9b8d-f39ebcac8803"
   },
   "outputs": [
    {
     "name": "stdout",
     "output_type": "stream",
     "text": [
      "Column: Open, Mean: 2.479037434833667, Standard Deviation: 1.792742719789236\n",
      "Column: High, Mean: 3.6387547097464177, Standard Deviation: 2.3921509846515936\n",
      "Column: Low, Mean: 3.512713408899274, Standard Deviation: 2.3491839152505065\n",
      "Column: Close, Mean: 3.5762375610480097, Standard Deviation: 2.3617920735737727\n",
      "Column: Adj Close, Mean: 3.245731631079554, Standard Deviation: 2.0282785173545963\n",
      "Column: Volume, Mean: 7977.757971875619, Standard Deviation: 16239.129044271978\n"
     ]
    }
   ],
   "source": [
    "parameters = {}\n",
    "for column in stocks.columns:\n",
    "    if column != \"Date\" and column != \"Symbol\":  # Exclude non-numeric columns\n",
    "        mean_value = stocks.select(fun.mean(column)).collect()[0][0]\n",
    "        std_dev_value = stocks.select(fun.stddev(column)).collect()[0][0]\n",
    "        parameters[column] = {\"mean\": mean_value, \"std_dev\": std_dev_value}\n",
    "\n",
    "# Print the calculated parameters\n",
    "for column, values in parameters.items():\n",
    "    print(f\"Column: {column}, Mean: {values['mean']}, Standard Deviation: {values['std_dev']}\")"
   ]
  },
  {
   "cell_type": "code",
   "execution_count": 20,
   "metadata": {
    "colab": {
     "base_uri": "https://localhost:8080/"
    },
    "id": "uhx3UN6Ad-n3",
    "outputId": "5738a6b5-59b4-4884-dacb-b5b827720fca"
   },
   "outputs": [
    {
     "name": "stdout",
     "output_type": "stream",
     "text": [
      "+----------+----+------------------+------------------+------------------+------------------+------+--------------+---------------+--------------+-------------+-------------+\n",
      "|      Date|Open|              High|               Low|             Close|         Adj Close|Volume|simulated_open|simulated_close|simulated_high|simulated_low|simulated_vol|\n",
      "+----------+----+------------------+------------------+------------------+------------------+------+--------------+---------------+--------------+-------------+-------------+\n",
      "|1980-03-17| 0.0| 4.050000190734863|3.8499999046325684|3.8499999046325684|3.2131667137145996| 15000|     4.9653726|      5.6987395|      4.797388|    -92.38986|     24821.18|\n",
      "|1980-03-18| 0.0|               4.0| 3.799999952316284| 3.799999952316284|3.1714370250701904| 10200|   -0.23643057|      2.8225355|       4.77557|    13.010745|    -7475.026|\n",
      "|1980-03-19| 0.0| 4.050000190734863|3.8499999046325684|3.8499999046325684|3.2131667137145996| 33500|     1.2348555|      5.7092247|      6.883335|    63.353676|   -22442.705|\n",
      "|1980-03-20| 0.0|               4.0| 3.799999952316284| 3.799999952316284|3.1714370250701904|  8700|     2.2800052|      3.8729687|     7.8840857|    -35.41627|      18888.1|\n",
      "|1980-03-21| 0.0| 3.950000047683716|              3.75|              3.75|3.1297085285186768| 12700|     1.6846783|      6.7267175|      5.478563|    90.326645|    2095.6895|\n",
      "|1980-03-24| 0.0|              3.75| 3.549999952316284| 3.549999952316284|2.9627902507781982| 18200|    0.29105717|      0.8084546|     3.4160805|     25.40781|     4569.141|\n",
      "|1980-03-25| 0.0| 3.700000047683716|               3.5|               3.5| 2.921060562133789|  2500|     1.3862612|      2.3288186|     1.1803343|   -191.08112|    27222.963|\n",
      "|1980-03-26| 0.0| 3.700000047683716|               3.5|               3.5| 2.921060562133789|   500|     3.6067984|       5.110802|     3.0482712|    206.60455|    7383.7886|\n",
      "|1980-03-27| 0.0|3.5999999046325684|3.4000000953674316|3.4000000953674316|  2.83760142326355|  4200|     1.2502211|      0.7619357|    -2.4057462|   -53.753613|     3283.236|\n",
      "|1980-03-28| 0.0|3.6500000953674316| 3.450000047683716| 3.450000047683716|2.8793320655822754|  3200|      4.167667|     0.17783551|     5.1028166|   -114.80835|     9989.463|\n",
      "|1980-03-31| 0.0| 3.549999952316284|3.3499999046325684|3.3499999046325684| 2.795872449874878| 20000|      2.864966|     0.04330268|      4.544294|   -33.118946|     6277.977|\n",
      "|1980-04-01| 0.0|               3.5| 3.299999952316284| 3.299999952316284| 2.754143238067627|  2000|    0.52562153|       4.566048|      9.044629|   -170.06268|    17162.213|\n",
      "|1980-04-02| 0.0|3.5999999046325684|3.4000000953674316|3.4000000953674316|  2.83760142326355|  9200|      5.986281|      2.8865335|      4.082913|     -126.189|    4812.3823|\n",
      "|1980-04-03| 0.0|3.5999999046325684|3.4000000953674316|3.4000000953674316|  2.83760142326355| 28500|     1.6207458|    -0.23814975|     5.5926924|    -7.160092|   -4944.7964|\n",
      "|1980-04-07| 0.0|               3.5| 3.299999952316284| 3.299999952316284| 2.754143238067627|  4000|       4.17666|       4.761141|      7.276652|   -176.50505|    32480.076|\n",
      "|1980-04-08| 0.0|               3.5| 3.299999952316284| 3.299999952316284| 2.754143238067627|  5200|      3.511468|      5.1759696|     7.0746574|    -6.534649|    20665.428|\n",
      "|1980-04-09| 0.0|               3.5| 3.299999952316284| 3.299999952316284| 2.754143238067627|  7000|     3.3679848|      1.7538338|     3.2835279|    46.936775|     12831.18|\n",
      "|1980-04-10| 0.0|               3.5| 3.299999952316284| 3.299999952316284| 2.754143238067627|  3200|      7.645882|      7.8449483|      3.783089|   -36.450054|    22744.129|\n",
      "|1980-04-11| 0.0| 3.549999952316284|3.3499999046325684|3.3499999046325684| 2.795872449874878| 18700|     3.0187273|      4.3365583|     2.1521268|     193.7866|    31299.229|\n",
      "|1980-04-14| 0.0|               3.5| 3.299999952316284| 3.299999952316284| 2.754143238067627| 13200|     3.4779768|       7.620231|     1.3498278|     133.4434|     19695.44|\n",
      "+----------+----+------------------+------------------+------------------+------------------+------+--------------+---------------+--------------+-------------+-------------+\n",
      "only showing top 20 rows\n",
      "\n"
     ]
    }
   ],
   "source": [
    "# Define the number of simulations\n",
    "num_simulations = 1000\n",
    "\n",
    "# Define input parameters with probability distributions\n",
    "mean_open = 2.479037434833667\n",
    "std_dev_open = 1.792742719789236\n",
    "mean_close = 3.5762375610480097\n",
    "std_dev_close = 2.3617920735737727\n",
    "mean_high = 3.6387547097464177\n",
    "std_dev_high = 2.3921509846515936\n",
    "mean_low = 3.512713408899274\n",
    "std_dev_low = 102.3491839152505065\n",
    "mean_vol=7977.757971875619\n",
    "std_dev_vol=16239.129044271978\n",
    "\n",
    "# Define UDFs to generate random numbers from normal distributions\n",
    "@udf(FloatType())\n",
    "def generate_random_open():\n",
    "    return np.random.normal(mean_open, std_dev_open)\n",
    "\n",
    "@udf(FloatType())\n",
    "def generate_random_close():\n",
    "    return np.random.normal(mean_close, std_dev_close)\n",
    "\n",
    "@udf(FloatType())\n",
    "def generate_random_high():\n",
    "    return np.random.normal(mean_high, std_dev_high)\n",
    "\n",
    "@udf(FloatType())\n",
    "def generate_random_low():\n",
    "    return np.random.normal(mean_low, std_dev_low)\n",
    "\n",
    "@udf(FloatType())\n",
    "def generate_random_vol():\n",
    "  return np.random.normal(mean_vol,std_dev_vol)\n",
    "\n",
    "# Generate random numbers in parallel using Spark\n",
    "simulated_prices_df = stocks.select(\n",
    "    \"*\",\n",
    "    generate_random_open().alias(\"simulated_open\"),\n",
    "    generate_random_close().alias(\"simulated_close\"),\n",
    "    generate_random_high().alias(\"simulated_high\"),\n",
    "    generate_random_low().alias(\"simulated_low\"),\n",
    "    generate_random_vol().alias(\"simulated_vol\")\n",
    ")\n",
    "\n",
    "# Show the results\n",
    "simulated_prices_df.show()\n",
    "\n"
   ]
  }
 ],
 "metadata": {
  "colab": {
   "provenance": []
  },
  "kernelspec": {
   "display_name": "Python 3 (ipykernel)",
   "language": "python",
   "name": "python3"
  },
  "language_info": {
   "codemirror_mode": {
    "name": "ipython",
    "version": 3
   },
   "file_extension": ".py",
   "mimetype": "text/x-python",
   "name": "python",
   "nbconvert_exporter": "python",
   "pygments_lexer": "ipython3",
   "version": "3.12.0"
  }
 },
 "nbformat": 4,
 "nbformat_minor": 4
}
