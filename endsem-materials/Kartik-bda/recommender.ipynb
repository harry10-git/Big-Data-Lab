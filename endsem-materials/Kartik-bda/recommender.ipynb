{
 "cells": [
  {
   "cell_type": "code",
   "execution_count": 8,
   "metadata": {},
   "outputs": [],
   "source": [
    "from pyspark.sql import SparkSession\n",
    "from pyspark.sql.functions import col \n",
    "from pyspark.ml.recommendation import ALS\n",
    "from pyspark.ml.evaluation import RegressionEvaluator\n",
    "from pyspark.ml.feature import StringIndexer\n",
    "from pyspark.ml import Pipeline"
   ]
  },
  {
   "cell_type": "markdown",
   "metadata": {},
   "source": [
    "Load dataset"
   ]
  },
  {
   "cell_type": "code",
   "execution_count": 3,
   "metadata": {},
   "outputs": [
    {
     "name": "stdout",
     "output_type": "stream",
     "text": [
      "+-----------+----------+--------------------+--------------------+-----+--------------------+----------+--------------+\n",
      "|helpfulness|product_id|        profile_name|              review|score|             summary|      time|       user_id|\n",
      "+-----------+----------+--------------------+--------------------+-----+--------------------+----------+--------------+\n",
      "|        7/7|B003AI2VGA|Brian E. Erland \"...|Synopsis: On the ...|  3.0|\"There Is So Much...|1182729600|A141HP4LYPWMSR|\n",
      "|        4/4|B003AI2VGA|          Grady Harp|THE VIRGIN OF JUA...|  3.0|Worthwhile and Im...|1181952000|A328S9RN3U5M68|\n",
      "|       8/10|B003AI2VGA|Chrissy K. McVay ...|The scenes in thi...|  5.0|This movie needed...|1164844800|A1I7QGUDP043DG|\n",
      "|        1/1|B003AI2VGA|        golgotha.gov|THE VIRGIN OF JUA...|  3.0|distantly based o...|1197158400|A1M5405JH9THP9|\n",
      "|        1/1|B003AI2VGA|KerrLines \"&#34;M...|Informationally, ...|  3.0|\"What's going on ...|1188345600| ATXL536YX71TR|\n",
      "|        0/0|B003AI2VGA|abra \"a devoted r...|The murders in Ju...|  2.0|Pretty pointless ...|1229040000|A3QYDL5CDNYN66|\n",
      "|       3/11|B003AI2VGA| Charles R. Williams|Mexican men are m...|  1.0|This is junk, sta...|1164153600| AQJVNDW6YZFQS|\n",
      "|      64/65|B00006HAXW|   Anthony Accordino|Over the past few...|  5.0|A  Rock N Roll Hi...|1060473600| AD4CDZK7D31XP|\n",
      "|      26/26|B00006HAXW|    Joseph P. Aiello|I recvd this vide...|  5.0|A  MUST-HAVE  vid...|1041292800|A3Q4S5DFVPB70D|\n",
      "|      24/24|B00006HAXW|     \"bruce_from_la\"|Wow! When I saw t...|  5.0|If You Like DooWo...|1061164800|A2P7UB02HAVEPB|\n",
      "|      22/23|B00006HAXW|    Henrique Peirano|I have the Doo Wo...|  4.0|    I expected more.|1039564800|A2TX99AZKDK0V7|\n",
      "|      14/14|B00006HAXW|      Richard Albero|Having worked in ...|  5.0|Professional Exce...|1045526400| AFC8IKR407HSK|\n",
      "|        9/9|B00006HAXW|                 Les|The people who ha...|  5.0|Marvelous, just M...|1062979200|A1FRPGQYQTAOR1|\n",
      "|        9/9|B00006HAXW|     Joseph M. Kotow|I have all of the...|  5.0|Pittsburgh - Home...|1042502400|A1RSDE90N6RSZF|\n",
      "|        7/7|B00006HAXW|      \"fellafromnyc\"|The performance o...|  4.0|They sang in the ...|1049846400|A1OUBOGB5970AO|\n",
      "|        7/7|B00006HAXW|           S. Dorman|Get it, also get ...|  5.0|DOO WOP RECORDED ...|1047945600|A3NPHQVIY59Y0Y|\n",
      "|        7/7|B00006HAXW|                 RFP|Excellent, excell...|  5.0|ROCK RYTHM AND DO...|1038787200| AFKMBAY28XO8A|\n",
      "|        4/4|B00006HAXW|           C. Thomas|This video is awe...|  5.0|Unbelievable Best...|1177804800| A66KMXH9V7OGU|\n",
      "|        3/3|B00006HAXW|   Michael A. Martin|As I stated in my...|  5.0|Another outstandi...|1200096000| AFJ27ZV9183B8|\n",
      "|        5/6|B00006HAXW|C. W. Emblom \"Bil...|I own both the VH...|  5.0|Outstanding Wheth...|1082592000| AXMKAXC0TR9AW|\n",
      "+-----------+----------+--------------------+--------------------+-----+--------------------+----------+--------------+\n",
      "only showing top 20 rows\n",
      "\n"
     ]
    }
   ],
   "source": [
    "spark = SparkSession.builder.appName('recommender').getOrCreate()\n",
    "spark\n",
    "df = spark.read.json('movies.json')\n",
    "df.show()"
   ]
  },
  {
   "cell_type": "code",
   "execution_count": 4,
   "metadata": {},
   "outputs": [
    {
     "name": "stdout",
     "output_type": "stream",
     "text": [
      "+--------------+----------+-----+\n",
      "|       user_id|product_id|score|\n",
      "+--------------+----------+-----+\n",
      "|A141HP4LYPWMSR|B003AI2VGA|  3.0|\n",
      "|A328S9RN3U5M68|B003AI2VGA|  3.0|\n",
      "|A1I7QGUDP043DG|B003AI2VGA|  5.0|\n",
      "|A1M5405JH9THP9|B003AI2VGA|  3.0|\n",
      "| ATXL536YX71TR|B003AI2VGA|  3.0|\n",
      "+--------------+----------+-----+\n",
      "only showing top 5 rows\n",
      "\n"
     ]
    }
   ],
   "source": [
    "df_ratings = df.select('user_id','product_id','score')\n",
    "df_ratings.show(5) "
   ]
  },
  {
   "cell_type": "code",
   "execution_count": 13,
   "metadata": {},
   "outputs": [
    {
     "name": "stdout",
     "output_type": "stream",
     "text": [
      "+--------------+----------+-----+---------------+------------------+\n",
      "|       user_id|product_id|score|user_id_indexed|product_id_indexed|\n",
      "+--------------+----------+-----+---------------+------------------+\n",
      "|A141HP4LYPWMSR|B003AI2VGA|  3.0|           32.0|             731.0|\n",
      "|A328S9RN3U5M68|B003AI2VGA|  3.0|            3.0|             731.0|\n",
      "|A1I7QGUDP043DG|B003AI2VGA|  5.0|          312.0|             731.0|\n",
      "|A1M5405JH9THP9|B003AI2VGA|  3.0|        10917.0|             731.0|\n",
      "| ATXL536YX71TR|B003AI2VGA|  3.0|          173.0|             731.0|\n",
      "+--------------+----------+-----+---------------+------------------+\n",
      "only showing top 5 rows\n",
      "\n",
      "+--------------+----------+-----+---------------+------------------+----------+\n",
      "|       user_id|product_id|score|user_id_indexed|product_id_indexed|prediction|\n",
      "+--------------+----------+-----+---------------+------------------+----------+\n",
      "|A1OS2HX2CWQIC7|6303257933|  4.0|          833.0|              83.0|-0.8053398|\n",
      "|A1V3TRGWOMA8LC|B002OHDRF2|  1.0|         2833.0|              21.0|0.99094164|\n",
      "|A2SPL0BGAV9DMJ|B002OHDRF2|  5.0|         3834.0|              21.0| 4.9547086|\n",
      "|A3EKQV7J4GE13R|B001GBPZRU|  3.0|         4477.0|             347.0| 0.6956918|\n",
      "|A1NPL509WO4PIT|B002OHDRF2|  5.0|         2625.0|              21.0| 4.9547086|\n",
      "+--------------+----------+-----+---------------+------------------+----------+\n",
      "only showing top 5 rows\n",
      "\n",
      "RMSE: 3.792849734180009\n"
     ]
    }
   ],
   "source": [
    "indexers = [StringIndexer(inputCol= col_name,outputCol=col_name+'_indexed').fit(df_ratings) for col_name in df_ratings.columns[:-1]]\n",
    "pipeline = Pipeline(stages=indexers)\n",
    "df_indexed = pipeline.fit(df_ratings).transform(df_ratings)\n",
    "df_indexed.show(5)\n",
    "train,test = df_indexed.randomSplit([0.9,0.1])\n",
    "als = ALS(userCol='user_id_indexed',\n",
    "          itemCol='product_id_indexed',\n",
    "          ratingCol='score',\n",
    "          rank=10,\n",
    "          regParam=0.01,\n",
    "          coldStartStrategy='drop')\n",
    "model = als.fit(train)\n",
    "preds = model.transform(test)\n",
    "preds.show(5)\n",
    "evaluator = RegressionEvaluator(predictionCol='prediction',labelCol='score',metricName='rmse')\n",
    "rmse = evaluator.evaluate(preds)\n",
    "print(f\"RMSE: {rmse}\")"
   ]
  },
  {
   "cell_type": "code",
   "execution_count": 14,
   "metadata": {},
   "outputs": [
    {
     "name": "stdout",
     "output_type": "stream",
     "text": [
      "+---------------+--------------------+\n",
      "|user_id_indexed|     recommendations|\n",
      "+---------------+--------------------+\n",
      "|             31|[{513, 27.609352}...|\n",
      "|             53|[{853, 32.8179}, ...|\n",
      "|             65|[{700, 40.973354}...|\n",
      "|             78|[{739, 24.476349}...|\n",
      "|             85|[{822, 22.404781}...|\n",
      "|            133|[{776, 18.434097}...|\n",
      "|            137|[{586, 52.78732},...|\n",
      "|            148|[{447, 18.512798}...|\n",
      "|            243|[{340, 23.251925}...|\n",
      "|            251|[{413, 25.723671}...|\n",
      "|            255|[{739, 30.160769}...|\n",
      "|            296|[{739, 40.93587},...|\n",
      "|            321|[{580, 14.818803}...|\n",
      "|            322|[{1205, 14.878865...|\n",
      "|            362|[{547, 20.989742}...|\n",
      "|            392|[{693, 28.349457}...|\n",
      "|            451|[{1205, 26.252876...|\n",
      "|            458|[{652, 15.460415}...|\n",
      "|            463|[{678, 14.186287}...|\n",
      "|            471|[{855, 19.744804}...|\n",
      "+---------------+--------------------+\n",
      "only showing top 20 rows\n",
      "\n"
     ]
    }
   ],
   "source": [
    "userRecs = model.recommendForAllUsers(5)\n",
    "userRecs.show()"
   ]
  },
  {
   "cell_type": "code",
   "execution_count": 15,
   "metadata": {},
   "outputs": [
    {
     "name": "stdout",
     "output_type": "stream",
     "text": [
      "+------------------+--------------------+\n",
      "|product_id_indexed|     recommendations|\n",
      "+------------------+--------------------+\n",
      "|                 1|[{195, 8.66188}, ...|\n",
      "|                 3|[{318, 6.4674683}...|\n",
      "|                 5|[{218, 8.274359},...|\n",
      "|                 6|[{304, 4.9963703}...|\n",
      "|                 9|[{218, 8.599127},...|\n",
      "|                12|[{137, 14.832996}...|\n",
      "|                13|[{116, 8.715103},...|\n",
      "|                15|[{318, 7.869201},...|\n",
      "|                16|[{183, 8.336919},...|\n",
      "|                17|[{261, 8.857319},...|\n",
      "|                19|[{183, 8.354104},...|\n",
      "|                20|[{43, 6.2594366},...|\n",
      "|                22|[{366, 8.1045685}...|\n",
      "|                26|[{42, 7.89459}, {...|\n",
      "|                27|[{196, 12.635218}...|\n",
      "|                28|[{265, 6.9876404}...|\n",
      "|                31|[{137, 8.740199},...|\n",
      "|                34|[{65, 10.110375},...|\n",
      "|                37|[{318, 8.333307},...|\n",
      "|                40|[{257, 11.876069}...|\n",
      "+------------------+--------------------+\n",
      "only showing top 20 rows\n",
      "\n"
     ]
    }
   ],
   "source": [
    "itemRecs = model.recommendForAllItems(5)\n",
    "itemRecs.show()"
   ]
  }
 ],
 "metadata": {
  "kernelspec": {
   "display_name": "Python 3 (ipykernel)",
   "language": "python",
   "name": "python3"
  },
  "language_info": {
   "codemirror_mode": {
    "name": "ipython",
    "version": 3
   },
   "file_extension": ".py",
   "mimetype": "text/x-python",
   "name": "python",
   "nbconvert_exporter": "python",
   "pygments_lexer": "ipython3",
   "version": "3.12.0"
  }
 },
 "nbformat": 4,
 "nbformat_minor": 4
}
