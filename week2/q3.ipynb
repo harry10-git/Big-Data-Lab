{
 "cells": [
  {
   "cell_type": "markdown",
   "metadata": {},
   "source": [
    "3) Demonstrate how to perform basic aggregations (e.g., sum, average) on a PySpark DataFrame."
   ]
  },
  {
   "cell_type": "code",
   "execution_count": 2,
   "metadata": {},
   "outputs": [
    {
     "name": "stderr",
     "output_type": "stream",
     "text": [
      "/home/lplab/anaconda3/lib/python3.7/site-packages/pyspark/context.py:317: FutureWarning: Python 3.7 support is deprecated in Spark 3.4.\n",
      "  warnings.warn(\"Python 3.7 support is deprecated in Spark 3.4.\", FutureWarning)\n"
     ]
    }
   ],
   "source": [
    "import pyspark\n",
    "from pyspark.sql import SparkSession\n",
    "\n",
    "spark = SparkSession.builder.appName('agg').getOrCreate()"
   ]
  },
  {
   "cell_type": "code",
   "execution_count": 10,
   "metadata": {},
   "outputs": [
    {
     "name": "stdout",
     "output_type": "stream",
     "text": [
      "+----------+------------+-------+---------+---------+\n",
      "|student ID|student NAME|college|subject 1|subject 2|\n",
      "+----------+------------+-------+---------+---------+\n",
      "|         1|      sravan| vignan|       67|       89|\n",
      "|         2|      ojaswi|   vvit|       78|       89|\n",
      "|         3|      rohith|   vvit|      100|       80|\n",
      "|         4|     sridevi| vignan|       78|       80|\n",
      "|         1|      sravan| vignan|       89|       98|\n",
      "|         5|     gnanesh|    iit|       94|       98|\n",
      "+----------+------------+-------+---------+---------+\n",
      "\n"
     ]
    }
   ],
   "source": [
    "data = [[1, \"sravan\", \"vignan\", 67, 89], \n",
    "        [2, \"ojaswi\", \"vvit\", 78, 89], \n",
    "        [3, \"rohith\", \"vvit\", 100, 80], \n",
    "        [4, \"sridevi\", \"vignan\", 78, 80], \n",
    "        [1, \"sravan\", \"vignan\", 89, 98], \n",
    "        [5, \"gnanesh\", \"iit\", 94, 98]] \n",
    "  \n",
    "# specify column names \n",
    "columns = ['student ID', 'student NAME', 'college', \n",
    "           'subject 1', 'subject 2'] \n",
    "\n",
    "df = spark.createDataFrame(data, columns)\n",
    "\n",
    "df.show()"
   ]
  },
  {
   "cell_type": "code",
   "execution_count": 11,
   "metadata": {},
   "outputs": [
    {
     "name": "stdout",
     "output_type": "stream",
     "text": [
      "+--------------+\n",
      "|sum(subject 1)|\n",
      "+--------------+\n",
      "|           506|\n",
      "+--------------+\n",
      "\n"
     ]
    }
   ],
   "source": [
    "df.agg({'subject 1': 'sum'}).show() "
   ]
  },
  {
   "cell_type": "code",
   "execution_count": 12,
   "metadata": {},
   "outputs": [
    {
     "name": "stdout",
     "output_type": "stream",
     "text": [
      "+--------------+--------------+\n",
      "|sum(subject 1)|sum(subject 2)|\n",
      "+--------------+--------------+\n",
      "|           506|           534|\n",
      "+--------------+--------------+\n",
      "\n"
     ]
    }
   ],
   "source": [
    "df.agg({'subject 1': 'sum', 'subject 2': 'sum'}).show() "
   ]
  },
  {
   "cell_type": "code",
   "execution_count": 13,
   "metadata": {},
   "outputs": [
    {
     "name": "stdout",
     "output_type": "stream",
     "text": [
      "+------------------+\n",
      "|   avg(student ID)|\n",
      "+------------------+\n",
      "|2.6666666666666665|\n",
      "+------------------+\n",
      "\n"
     ]
    }
   ],
   "source": [
    "df.agg({'student ID': 'avg'}).show() "
   ]
  },
  {
   "cell_type": "code",
   "execution_count": null,
   "metadata": {},
   "outputs": [],
   "source": []
  }
 ],
 "metadata": {
  "kernelspec": {
   "display_name": "Python 3",
   "language": "python",
   "name": "python3"
  },
  "language_info": {
   "codemirror_mode": {
    "name": "ipython",
    "version": 3
   },
   "file_extension": ".py",
   "mimetype": "text/x-python",
   "name": "python",
   "nbconvert_exporter": "python",
   "pygments_lexer": "ipython3",
   "version": "3.7.0"
  }
 },
 "nbformat": 4,
 "nbformat_minor": 2
}
