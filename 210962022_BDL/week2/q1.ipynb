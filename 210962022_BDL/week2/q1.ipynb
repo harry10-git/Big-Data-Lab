{
 "cells": [
  {
   "cell_type": "markdown",
   "metadata": {},
   "source": [
    " 1. Implement a PySpark script that applies transformations like filter and withColumn on a DataFrame."
   ]
  },
  {
   "cell_type": "code",
   "execution_count": 1,
   "metadata": {},
   "outputs": [],
   "source": [
    "import pyspark\n",
    "from pyspark.sql import SparkSession"
   ]
  },
  {
   "cell_type": "code",
   "execution_count": 12,
   "metadata": {},
   "outputs": [],
   "source": [
    "spark = SparkSession.builder.appName('filter').getOrCreate()"
   ]
  },
  {
   "cell_type": "code",
   "execution_count": 14,
   "metadata": {},
   "outputs": [
    {
     "name": "stdout",
     "output_type": "stream",
     "text": [
      "+------+-------+----+\n",
      "|  Name|College|Year|\n",
      "+------+-------+----+\n",
      "| Harry|    MIT|   3|\n",
      "|Ritesh|    CMS|   1|\n",
      "|Adarsh|    DSU|   4|\n",
      "|Mielek|     DU|   3|\n",
      "| Ankit|    MIT|   3|\n",
      "+------+-------+----+\n",
      "\n"
     ]
    }
   ],
   "source": [
    "data = [['Harry', 'MIT', 3], ['Ritesh', 'CMS', 1], ['Adarsh', 'DSU', 4] , ['Mielek', 'DU', 3], ['Ankit', 'MIT', 3]]\n",
    "cols = ['Name', 'College', 'Year']\n",
    "dataframe = spark.createDataFrame(data, cols)\n",
    "dataframe.show()"
   ]
  },
  {
   "cell_type": "markdown",
   "metadata": {},
   "source": [
    "# filter"
   ]
  },
  {
   "cell_type": "code",
   "execution_count": 15,
   "metadata": {},
   "outputs": [
    {
     "name": "stdout",
     "output_type": "stream",
     "text": [
      "+-----+-------+----+\n",
      "| Name|College|Year|\n",
      "+-----+-------+----+\n",
      "|Harry|    MIT|   3|\n",
      "|Ankit|    MIT|   3|\n",
      "+-----+-------+----+\n",
      "\n"
     ]
    }
   ],
   "source": [
    "dataframe.filter(dataframe.College == 'MIT').show()"
   ]
  },
  {
   "cell_type": "markdown",
   "metadata": {},
   "source": [
    "# withColumn"
   ]
  },
  {
   "cell_type": "code",
   "execution_count": 17,
   "metadata": {},
   "outputs": [
    {
     "name": "stdout",
     "output_type": "stream",
     "text": [
      "+------+-------+----+---------------+\n",
      "|  Name|College|Year|years_remaining|\n",
      "+------+-------+----+---------------+\n",
      "| Harry|    MIT|   3|              1|\n",
      "|Ritesh|    CMS|   1|              3|\n",
      "|Adarsh|    DSU|   4|              0|\n",
      "|Mielek|     DU|   3|              1|\n",
      "| Ankit|    MIT|   3|              1|\n",
      "+------+-------+----+---------------+\n",
      "\n"
     ]
    }
   ],
   "source": [
    "new_df = dataframe.withColumn('years_remaining', 4-dataframe.Year)\n",
    "new_df.show()"
   ]
  },
  {
   "cell_type": "code",
   "execution_count": null,
   "metadata": {},
   "outputs": [],
   "source": []
  }
 ],
 "metadata": {
  "kernelspec": {
   "display_name": "Python 3",
   "language": "python",
   "name": "python3"
  },
  "language_info": {
   "codemirror_mode": {
    "name": "ipython",
    "version": 3
   },
   "file_extension": ".py",
   "mimetype": "text/x-python",
   "name": "python",
   "nbconvert_exporter": "python",
   "pygments_lexer": "ipython3",
   "version": "3.7.0"
  }
 },
 "nbformat": 4,
 "nbformat_minor": 2
}
