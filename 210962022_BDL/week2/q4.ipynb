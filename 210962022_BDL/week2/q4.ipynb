{
 "cells": [
  {
   "cell_type": "markdown",
   "metadata": {},
   "source": [
    "4) Show how to write a PySpark DataFrame to a CSV file."
   ]
  },
  {
   "cell_type": "code",
   "execution_count": 1,
   "metadata": {},
   "outputs": [
    {
     "name": "stderr",
     "output_type": "stream",
     "text": [
      "/home/lplab/anaconda3/lib/python3.7/site-packages/pyspark/context.py:317: FutureWarning: Python 3.7 support is deprecated in Spark 3.4.\n",
      "  warnings.warn(\"Python 3.7 support is deprecated in Spark 3.4.\", FutureWarning)\n"
     ]
    }
   ],
   "source": [
    "import pyspark\n",
    "from pyspark.sql import SparkSession\n",
    "\n",
    "spark = SparkSession.builder.appName('write_to_csv').getOrCreate()"
   ]
  },
  {
   "cell_type": "code",
   "execution_count": 2,
   "metadata": {},
   "outputs": [
    {
     "name": "stdout",
     "output_type": "stream",
     "text": [
      "+----------+------------+-------+---------+---------+\n",
      "|student ID|student NAME|college|subject 1|subject 2|\n",
      "+----------+------------+-------+---------+---------+\n",
      "|         1|      sravan| vignan|       67|       89|\n",
      "|         2|      ojaswi|   vvit|       78|       89|\n",
      "|         3|      rohith|   vvit|      100|       80|\n",
      "|         4|     sridevi| vignan|       78|       80|\n",
      "|         1|      sravan| vignan|       89|       98|\n",
      "|         5|     gnanesh|    iit|       94|       98|\n",
      "+----------+------------+-------+---------+---------+\n",
      "\n"
     ]
    }
   ],
   "source": [
    "data = [[\"1\", \"sravan\", \"vignan\", 67, 89], \n",
    "        [\"2\", \"ojaswi\", \"vvit\", 78, 89], \n",
    "        [\"3\", \"rohith\", \"vvit\", 100, 80], \n",
    "        [\"4\", \"sridevi\", \"vignan\", 78, 80], \n",
    "        [\"1\", \"sravan\", \"vignan\", 89, 98], \n",
    "        [\"5\", \"gnanesh\", \"iit\", 94, 98]] \n",
    "  \n",
    "# specify column names \n",
    "columns = ['student ID', 'student NAME', 'college', \n",
    "           'subject 1', 'subject 2'] \n",
    "\n",
    "df = spark.createDataFrame(data, columns)\n",
    "\n",
    "df.show()"
   ]
  },
  {
   "cell_type": "code",
   "execution_count": 3,
   "metadata": {},
   "outputs": [],
   "source": [
    "df.toPandas().to_csv('mycsv.csv')"
   ]
  },
  {
   "cell_type": "code",
   "execution_count": 5,
   "metadata": {},
   "outputs": [],
   "source": [
    "# makes each entry to new csv file\n",
    "#df.write.option(\"header\", True).option(\"delimiter\",\",\").csv('mycsv_2.csv')"
   ]
  },
  {
   "cell_type": "code",
   "execution_count": null,
   "metadata": {},
   "outputs": [],
   "source": []
  }
 ],
 "metadata": {
  "kernelspec": {
   "display_name": "Python 3",
   "language": "python",
   "name": "python3"
  },
  "language_info": {
   "codemirror_mode": {
    "name": "ipython",
    "version": 3
   },
   "file_extension": ".py",
   "mimetype": "text/x-python",
   "name": "python",
   "nbconvert_exporter": "python",
   "pygments_lexer": "ipython3",
   "version": "3.7.0"
  }
 },
 "nbformat": 4,
 "nbformat_minor": 2
}
