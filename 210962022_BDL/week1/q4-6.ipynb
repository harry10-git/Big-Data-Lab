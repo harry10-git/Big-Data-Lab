{
 "cells": [
  {
   "cell_type": "code",
   "execution_count": null,
   "id": "b40d5577",
   "metadata": {},
   "outputs": [],
   "source": [
    "4 Demonstrate how to read a CSV file into a PySpark DataFrame.\n",
    "5 Use PySpark commands to display the first few rows and schema of a DataFrame.\n",
    "6 Calculate basic summary statistics for a specific column in the DataFrame."
   ]
  },
  {
   "cell_type": "code",
   "execution_count": 4,
   "id": "24036e66",
   "metadata": {},
   "outputs": [
    {
     "name": "stderr",
     "output_type": "stream",
     "text": [
      "24/01/12 09:47:57 WARN Utils: Your hostname, Harrys-MacBook-Air.local resolves to a loopback address: 127.0.0.1; using 192.168.1.8 instead (on interface en0)\n",
      "24/01/12 09:47:57 WARN Utils: Set SPARK_LOCAL_IP if you need to bind to another address\n",
      "Setting default log level to \"WARN\".\n",
      "To adjust logging level use sc.setLogLevel(newLevel). For SparkR, use setLogLevel(newLevel).\n",
      "24/01/12 09:47:57 WARN NativeCodeLoader: Unable to load native-hadoop library for your platform... using builtin-java classes where applicable\n",
      "                                                                                \r"
     ]
    },
    {
     "name": "stdout",
     "output_type": "stream",
     "text": [
      "root\n",
      " |-- height: integer (nullable = true)\n",
      " |-- weight: integer (nullable = true)\n",
      "\n",
      "+------+------+\n",
      "|height|weight|\n",
      "+------+------+\n",
      "|   165|    60|\n",
      "|   178|    75|\n",
      "|   155|    50|\n",
      "|   180|    80|\n",
      "|   168|    65|\n",
      "|   172|    70|\n",
      "|   160|    55|\n",
      "|   185|    85|\n",
      "|   162|    58|\n",
      "|   175|    72|\n",
      "+------+------+\n",
      "\n"
     ]
    },
    {
     "name": "stderr",
     "output_type": "stream",
     "text": [
      "\r",
      "[Stage 4:>                                                          (0 + 1) / 1]\r"
     ]
    },
    {
     "name": "stdout",
     "output_type": "stream",
     "text": [
      "+-------+-----------------+\n",
      "|summary|           height|\n",
      "+-------+-----------------+\n",
      "|  count|               10|\n",
      "|   mean|            170.0|\n",
      "| stddev|9.637888196533973|\n",
      "|    min|              155|\n",
      "|    25%|              162|\n",
      "|    50%|              168|\n",
      "|    75%|              178|\n",
      "|    max|              185|\n",
      "+-------+-----------------+\n",
      "\n"
     ]
    },
    {
     "name": "stderr",
     "output_type": "stream",
     "text": [
      "\r",
      "                                                                                \r"
     ]
    }
   ],
   "source": [
    "from pyspark.sql import SparkSession\n",
    "from pyspark.sql import functions as F\n",
    "\n",
    "spark = SparkSession.builder.appName(\"Read CSV\").getOrCreate()\n",
    "sparkcsv = spark.read.csv('sample.csv',header = True, inferSchema = True)\n",
    "\n",
    "sparkcsv.printSchema()\n",
    "sparkcsv.head(3)\n",
    "sparkcsv.show()\n",
    "sparkcsv.select(\"height\").summary().show()"
   ]
  }
 ],
 "metadata": {
  "kernelspec": {
   "display_name": "Python 3 (ipykernel)",
   "language": "python",
   "name": "python3"
  },
  "language_info": {
   "codemirror_mode": {
    "name": "ipython",
    "version": 3
   },
   "file_extension": ".py",
   "mimetype": "text/x-python",
   "name": "python",
   "nbconvert_exporter": "python",
   "pygments_lexer": "ipython3",
   "version": "3.11.3"
  }
 },
 "nbformat": 4,
 "nbformat_minor": 5
}
